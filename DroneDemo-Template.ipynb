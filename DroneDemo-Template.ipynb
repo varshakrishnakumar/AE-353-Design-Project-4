{
 "cells": [
  {
   "cell_type": "markdown",
   "id": "middle-acoustic",
   "metadata": {},
   "source": [
    "# Quadrotor (aka \"the drone\")"
   ]
  },
  {
   "cell_type": "markdown",
   "id": "future-divide",
   "metadata": {},
   "source": [
    "## Example of how to set everything up (do this only once)"
   ]
  },
  {
   "cell_type": "markdown",
   "id": "faced-least",
   "metadata": {},
   "source": [
    "Import modules."
   ]
  },
  {
   "cell_type": "code",
   "execution_count": 42,
   "id": "informed-qatar",
   "metadata": {},
   "outputs": [],
   "source": [
    "import os\n",
    "import time\n",
    "import numpy as np\n",
    "import matplotlib.pyplot as plt\n",
    "import secrets\n",
    "import sympy as sym\n",
    "import numpy.linalg as la\n",
    "from scipy import linalg\n",
    "import ae353_drone"
   ]
  },
  {
   "cell_type": "markdown",
   "id": "final-distinction",
   "metadata": {},
   "source": [
    "Create and print a seed for the random number generator so it is possible to reproduce the results."
   ]
  },
  {
   "cell_type": "code",
   "execution_count": 43,
   "id": "ceramic-evanescence",
   "metadata": {},
   "outputs": [
    {
     "name": "stdout",
     "output_type": "stream",
     "text": [
      "3678425235\n"
     ]
    }
   ],
   "source": [
    "seed = secrets.randbits(32)\n",
    "print(seed)"
   ]
  },
  {
   "cell_type": "code",
   "execution_count": 60,
   "id": "0efd0e15",
   "metadata": {},
   "outputs": [],
   "source": [
    "seed = 992752186"
   ]
  },
  {
   "cell_type": "markdown",
   "id": "environmental-refrigerator",
   "metadata": {},
   "source": [
    "Create simulator with seed."
   ]
  },
  {
   "cell_type": "code",
   "execution_count": 44,
   "id": "needed-motion",
   "metadata": {},
   "outputs": [],
   "source": [
    "simulator = ae353_drone.Simulator(\n",
    "    display=False,\n",
    "    seed=seed,\n",
    ")"
   ]
  },
  {
   "cell_type": "code",
   "execution_count": 45,
   "id": "bf6efa0c",
   "metadata": {},
   "outputs": [],
   "source": [
    "simulator.set_rules(\n",
    "    error_on_print=False,    # <-- allow print statements in controller code\n",
    "    error_on_timeout=False,  # <-- allow long runtimes in controller code\n",
    ")"
   ]
  },
  {
   "cell_type": "code",
   "execution_count": 5,
   "id": "05f8cdc5",
   "metadata": {},
   "outputs": [
    {
     "data": {
      "text/latex": [
       "$\\displaystyle \\left[\\begin{matrix}v_{x} \\cos{\\left(\\psi \\right)} \\cos{\\left(\\theta \\right)} + v_{y} \\left(\\sin{\\left(\\phi \\right)} \\sin{\\left(\\theta \\right)} \\cos{\\left(\\psi \\right)} - \\sin{\\left(\\psi \\right)} \\cos{\\left(\\phi \\right)}\\right) + v_{z} \\left(\\sin{\\left(\\phi \\right)} \\sin{\\left(\\psi \\right)} + \\sin{\\left(\\theta \\right)} \\cos{\\left(\\phi \\right)} \\cos{\\left(\\psi \\right)}\\right)\\\\v_{x} \\sin{\\left(\\psi \\right)} \\cos{\\left(\\theta \\right)} + v_{y} \\left(\\sin{\\left(\\phi \\right)} \\sin{\\left(\\psi \\right)} \\sin{\\left(\\theta \\right)} + \\cos{\\left(\\phi \\right)} \\cos{\\left(\\psi \\right)}\\right) - v_{z} \\left(\\sin{\\left(\\phi \\right)} \\cos{\\left(\\psi \\right)} - \\sin{\\left(\\psi \\right)} \\sin{\\left(\\theta \\right)} \\cos{\\left(\\phi \\right)}\\right)\\\\- v_{x} \\sin{\\left(\\theta \\right)} + v_{y} \\sin{\\left(\\phi \\right)} \\cos{\\left(\\theta \\right)} + v_{z} \\cos{\\left(\\phi \\right)} \\cos{\\left(\\theta \\right)}\\\\\\frac{w_{y} \\sin{\\left(\\phi \\right)} + w_{z} \\cos{\\left(\\phi \\right)}}{\\cos{\\left(\\theta \\right)}}\\\\w_{y} \\cos{\\left(\\phi \\right)} - w_{z} \\sin{\\left(\\phi \\right)}\\\\w_{x} + w_{y} \\sin{\\left(\\phi \\right)} \\tan{\\left(\\theta \\right)} + w_{z} \\cos{\\left(\\phi \\right)} \\tan{\\left(\\theta \\right)}\\\\v_{y} w_{z} - v_{z} w_{y} + \\frac{981 \\sin{\\left(\\theta \\right)}}{100}\\\\- v_{x} w_{z} + v_{z} w_{x} - \\frac{981 \\sin{\\left(\\phi \\right)} \\cos{\\left(\\theta \\right)}}{100}\\\\2 f_{z} + v_{x} w_{y} - v_{y} w_{x} - \\frac{981 \\cos{\\left(\\phi \\right)} \\cos{\\left(\\theta \\right)}}{100}\\\\\\frac{10000 \\tau_{x}}{23} - \\frac{17 w_{y} w_{z}}{23}\\\\\\frac{10000 \\tau_{y}}{23} + \\frac{17 w_{x} w_{z}}{23}\\\\250 \\tau_{z}\\end{matrix}\\right]$"
      ],
      "text/plain": [
       "Matrix([\n",
       "[v_x*cos(psi)*cos(theta) + v_y*(sin(phi)*sin(theta)*cos(psi) - sin(psi)*cos(phi)) + v_z*(sin(phi)*sin(psi) + sin(theta)*cos(phi)*cos(psi))],\n",
       "[v_x*sin(psi)*cos(theta) + v_y*(sin(phi)*sin(psi)*sin(theta) + cos(phi)*cos(psi)) - v_z*(sin(phi)*cos(psi) - sin(psi)*sin(theta)*cos(phi))],\n",
       "[                                                                      -v_x*sin(theta) + v_y*sin(phi)*cos(theta) + v_z*cos(phi)*cos(theta)],\n",
       "[                                                                                                 (w_y*sin(phi) + w_z*cos(phi))/cos(theta)],\n",
       "[                                                                                                              w_y*cos(phi) - w_z*sin(phi)],\n",
       "[                                                                                  w_x + w_y*sin(phi)*tan(theta) + w_z*cos(phi)*tan(theta)],\n",
       "[                                                                                                   v_y*w_z - v_z*w_y + 981*sin(theta)/100],\n",
       "[                                                                                         -v_x*w_z + v_z*w_x - 981*sin(phi)*cos(theta)/100],\n",
       "[                                                                                  2*f_z + v_x*w_y - v_y*w_x - 981*cos(phi)*cos(theta)/100],\n",
       "[                                                                                                           10000*tau_x/23 - 17*w_y*w_z/23],\n",
       "[                                                                                                           10000*tau_y/23 + 17*w_x*w_z/23],\n",
       "[                                                                                                                                250*tau_z]])"
      ]
     },
     "execution_count": 5,
     "metadata": {},
     "output_type": "execute_result"
    }
   ],
   "source": [
    "params = {\n",
    "    'm': 0.5,\n",
    "    'Jx': 0.0023,\n",
    "    'Jy': 0.0023,\n",
    "    'Jz': 0.0040,\n",
    "    'l': 0.175,\n",
    "    'g': 9.81,\n",
    "}\n",
    "\n",
    "# components of position (meters)\n",
    "p_x, p_y, p_z = sym.symbols('p_x, p_y, p_z')\n",
    "\n",
    "# yaw, pitch, roll angles (radians)\n",
    "psi, theta, phi = sym.symbols('psi, theta, phi')\n",
    "\n",
    "# components of linear velocity (meters / second)\n",
    "v_x, v_y, v_z = sym.symbols('v_x, v_y, v_z')\n",
    "v_in_body = sym.Matrix([v_x, v_y, v_z])\n",
    "\n",
    "# components of angular velocity (radians / second)\n",
    "w_x, w_y, w_z = sym.symbols('w_x, w_y, w_z')\n",
    "w_in_body = sym.Matrix([w_x, w_y, w_z])\n",
    "\n",
    "# components of net rotor torque\n",
    "tau_x, tau_y, tau_z = sym.symbols('tau_x, tau_y, tau_z')\n",
    "\n",
    "# net rotor force\n",
    "f_z = sym.symbols('f_z')\n",
    "\n",
    "# parameters\n",
    "m = sym.nsimplify(params['m'])\n",
    "Jx = sym.nsimplify(params['Jx'])\n",
    "Jy = sym.nsimplify(params['Jy'])\n",
    "Jz = sym.nsimplify(params['Jz'])\n",
    "l = sym.nsimplify(params['l'])\n",
    "g = sym.nsimplify(params['g'])\n",
    "J = sym.diag(Jx, Jy, Jz)\n",
    "\n",
    "# rotation matrices\n",
    "Rz = sym.Matrix([[sym.cos(psi), -sym.sin(psi), 0], [sym.sin(psi), sym.cos(psi), 0], [0, 0, 1]])\n",
    "Ry = sym.Matrix([[sym.cos(theta), 0, sym.sin(theta)], [0, 1, 0], [-sym.sin(theta), 0, sym.cos(theta)]])\n",
    "Rx = sym.Matrix([[1, 0, 0], [0, sym.cos(phi), -sym.sin(phi)], [0, sym.sin(phi), sym.cos(phi)]])\n",
    "R_body_in_world = Rz @ Ry @ Rx\n",
    "\n",
    "# angular velocity to angular rates\n",
    "ex = sym.Matrix([[1], [0], [0]])\n",
    "ey = sym.Matrix([[0], [1], [0]])\n",
    "ez = sym.Matrix([[0], [0], [1]])\n",
    "M = sym.simplify(sym.Matrix.hstack((Ry @ Rx).T @ ez, Rx.T @ ey, ex).inv(), full=True)\n",
    "\n",
    "# applied forces\n",
    "f_in_body = R_body_in_world.T @ sym.Matrix([[0], [0], [-m * g]]) + sym.Matrix([[0], [0], [f_z]])\n",
    "\n",
    "# applied torques\n",
    "tau_in_body = sym.Matrix([[tau_x], [tau_y], [tau_z]])\n",
    "\n",
    "# equations of motion\n",
    "f = sym.Matrix.vstack(\n",
    "    R_body_in_world * v_in_body,\n",
    "    M * w_in_body,\n",
    "    (1 / m) * (f_in_body - w_in_body.cross(m * v_in_body)),\n",
    "    J.inv() * (tau_in_body - w_in_body.cross(J * w_in_body)),\n",
    ")\n",
    "\n",
    "f = sym.simplify(f, full=True)\n",
    "g = sym.Matrix([p_x, p_y, p_z, psi])\n",
    "f"
   ]
  },
  {
   "cell_type": "code",
   "execution_count": 6,
   "id": "6b574e26",
   "metadata": {},
   "outputs": [
    {
     "data": {
      "text/plain": [
       "array([[0.],\n",
       "       [0.],\n",
       "       [0.],\n",
       "       [0.],\n",
       "       [0.],\n",
       "       [0.],\n",
       "       [0.],\n",
       "       [0.],\n",
       "       [0.],\n",
       "       [0.],\n",
       "       [0.],\n",
       "       [0.]])"
      ]
     },
     "execution_count": 6,
     "metadata": {},
     "output_type": "execute_result"
    }
   ],
   "source": [
    "p_xe, p_ye, p_ze, psie, thetae, phie, v_xe, v_ye, v_ze, w_xe, w_ye, w_ze, tau_xe, tau_ye, tau_ze, f_ze = np.zeros(16)\n",
    "f_ze = 981/200\n",
    "\n",
    "all_eq = np.array([p_xe, p_ye, p_ze, psie, thetae, phie, v_xe, v_ye, v_ze, w_xe, w_ye, w_ze, tau_xe, tau_ye, tau_ze, f_ze])\n",
    "xe = all_eq[:12].reshape((12,1))\n",
    "xe"
   ]
  },
  {
   "cell_type": "code",
   "execution_count": 7,
   "id": "a744de70",
   "metadata": {},
   "outputs": [
    {
     "data": {
      "text/plain": [
       "array([[0.],\n",
       "       [0.],\n",
       "       [0.],\n",
       "       [0.],\n",
       "       [0.],\n",
       "       [0.],\n",
       "       [0.],\n",
       "       [0.],\n",
       "       [0.],\n",
       "       [0.],\n",
       "       [0.],\n",
       "       [0.]])"
      ]
     },
     "execution_count": 7,
     "metadata": {},
     "output_type": "execute_result"
    }
   ],
   "source": [
    "f_num = sym.lambdify((p_x, p_y, p_z, psi, theta, phi, v_x, v_y, v_z, w_x, w_y, w_z, tau_x, tau_y, tau_z, f_z),f)\n",
    "g_num = sym.lambdify((p_x, p_y, p_z, psi, theta, phi, v_x, v_y, v_z, w_x, w_y, w_z, tau_x, tau_y, tau_z, f_z),g)\n",
    "f_num(p_xe, p_ye, p_ze, psie, thetae, phie, v_xe, v_ye, v_ze, w_xe, w_ye, w_ze, tau_xe, tau_ye, tau_ze, f_ze)\n",
    "#g_num(p_xe, p_ye, p_ze, psie, thetae, phie, v_xe, v_ye, v_ze, w_xe, w_ye, w_ze, tau_xe, tau_ye, tau_ze, f_ze)\n"
   ]
  },
  {
   "cell_type": "code",
   "execution_count": 8,
   "id": "cb58d988",
   "metadata": {},
   "outputs": [
    {
     "data": {
      "text/plain": [
       "((12, 12), (12, 4), (4, 12))"
      ]
     },
     "execution_count": 8,
     "metadata": {},
     "output_type": "execute_result"
    }
   ],
   "source": [
    "A_num = sym.lambdify((p_x, p_y, p_z, psi, theta, phi, v_x, v_y, v_z, w_x, w_y, w_z, tau_x, tau_y, tau_z, f_z), f.jacobian([p_x, p_y, p_z, psi, theta, phi, v_x, v_y, v_z, w_x, w_y, w_z]))\n",
    "B_num = sym.lambdify((p_x, p_y, p_z, psi, theta, phi, v_x, v_y, v_z, w_x, w_y, w_z, tau_x, tau_y, tau_z, f_z), f.jacobian([tau_x, tau_y, tau_z, f_z]))\n",
    "C_num = sym.lambdify((p_x, p_y, p_z, psi, theta, phi, v_x, v_y, v_z, w_x, w_y, w_z, tau_x, tau_y, tau_z, f_z), g.jacobian([p_x, p_y, p_z, psi, theta, phi, v_x, v_y, v_z, w_x, w_y, w_z]))\n",
    "\n",
    "A = A_num(p_xe, p_ye, p_ze, psie, thetae, phie, v_xe, v_ye, v_ze, w_xe, w_ye, w_ze, tau_xe, tau_ye, tau_ze, f_ze)\n",
    "B = B_num(p_xe, p_ye, p_ze, psie, thetae, phie, v_xe, v_ye, v_ze, w_xe, w_ye, w_ze, tau_xe, tau_ye, tau_ze, f_ze)\n",
    "C = C_num(p_xe, p_ye, p_ze, psie, thetae, phie, v_xe, v_ye, v_ze, w_xe, w_ye, w_ze, tau_xe, tau_ye, tau_ze, f_ze)\n",
    "A.shape, B.shape, C.shape"
   ]
  },
  {
   "cell_type": "code",
   "execution_count": 9,
   "id": "22cf3e6b",
   "metadata": {},
   "outputs": [],
   "source": [
    "def lqr(A,B,Q,R):\n",
    "    P=linalg.solve_continuous_are(A,B,Q,R)\n",
    "    K=linalg.inv(R) @ B.T @ P\n",
    "    return K"
   ]
  },
  {
   "cell_type": "code",
   "execution_count": 12,
   "id": "3c511505",
   "metadata": {},
   "outputs": [
    {
     "data": {
      "text/plain": [
       "array([[ 1.26902520e-15, -1.00000000e+00,  1.36308543e-15,\n",
       "        -3.75294193e-16, -1.40007542e-14,  5.46213218e+00,\n",
       "        -2.28361367e-15, -1.45381723e+00,  6.10100073e-16,\n",
       "         1.01248497e+00,  5.03199399e-19,  4.19055367e-16],\n",
       "       [ 1.00000000e+00,  2.05655837e-15,  1.35854444e-16,\n",
       "         3.01910506e-14,  5.46213218e+00,  4.56191636e-16,\n",
       "         1.45381723e+00,  2.16921170e-15,  9.24096718e-17,\n",
       "         5.03199399e-19,  1.01248497e+00,  1.65064342e-16],\n",
       "       [ 3.17194233e-14, -1.58542943e-15, -6.58371416e-16,\n",
       "         1.00000000e+00,  4.58833933e-14,  3.14794144e-15,\n",
       "         1.79036212e-14, -1.31021569e-15, -3.23989616e-16,\n",
       "         2.40956836e-16,  9.49119966e-17,  1.00399203e+00],\n",
       "       [ 4.63671127e-17,  5.11753362e-16,  1.00000000e+00,\n",
       "        -1.51084614e-16,  2.87264540e-17, -1.23929362e-17,\n",
       "         6.43198137e-17,  2.91362353e-16,  1.41421356e+00,\n",
       "         2.80646034e-18,  4.25084490e-19, -2.59191693e-18]])"
      ]
     },
     "execution_count": 12,
     "metadata": {},
     "output_type": "execute_result"
    }
   ],
   "source": [
    "Qc = np.eye(A.shape[0])\n",
    "Rc = np.eye(B.shape[1])\n",
    "\n",
    "K = lqr(A,B,Qc,Rc)\n",
    "K"
   ]
  },
  {
   "cell_type": "code",
   "execution_count": 10,
   "id": "9f72b2d3",
   "metadata": {},
   "outputs": [
    {
     "data": {
      "text/plain": [
       "(array([[-4.44180698e-16, -5.97614305e-01,  2.98918289e-15,\n",
       "          6.64410268e-16, -2.20794431e-15,  2.13127925e+00,\n",
       "         -3.57457364e-16, -6.11519455e-01,  9.34742064e-16,\n",
       "          3.52263536e-01,  1.98798778e-17, -1.33256130e-17],\n",
       "        [ 2.67261242e-01, -1.47715138e-15,  4.12542075e-16,\n",
       "         -1.66516279e-16,  1.73242685e+00,  2.29777433e-15,\n",
       "          3.89279442e-01, -1.18690446e-15,  3.83385832e-18,\n",
       "          1.98798778e-17,  3.49649650e-01,  1.54578795e-17],\n",
       "        [-5.87273816e-16,  2.91085648e-16, -4.52750303e-16,\n",
       "          5.85540044e-01, -6.27240968e-16, -1.96749066e-16,\n",
       "         -5.07791694e-16,  3.70035221e-16, -9.69983674e-17,\n",
       "         -7.66222749e-18,  8.88828072e-18,  3.44920331e-01],\n",
       "        [-1.07015516e-16, -6.17625337e-15,  1.58113883e+00,\n",
       "         -1.07825936e-15, -6.22906863e-16,  2.84406109e-14,\n",
       "         -2.29834542e-16, -9.61411124e-15,  1.89238971e+00,\n",
       "          1.50493472e-16,  6.17251189e-19, -2.71595429e-17]]),\n",
       " array([[ 15.31862643,   0.        ,   0.        ,   0.        ],\n",
       "        [  0.        ,  15.31862643,   0.        ,   0.        ],\n",
       "        [  0.        ,   0.        ,  10.95445115,   0.        ],\n",
       "        [  0.        ,   0.        ,   0.        ,  10.95445115],\n",
       "        [ 15.40351958,   0.        ,   0.        ,   0.        ],\n",
       "        [  0.        , -15.40351958,   0.        ,   0.        ],\n",
       "        [ 67.33015784,   0.        ,   0.        ,   0.        ],\n",
       "        [  0.        ,  67.33015784,   0.        ,   0.        ],\n",
       "        [  0.        ,   0.        ,  10.        ,   0.        ],\n",
       "        [  0.        , -10.        ,   0.        ,   0.        ],\n",
       "        [ 10.        ,   0.        ,   0.        ,   0.        ],\n",
       "        [  0.        ,   0.        ,   0.        ,  10.        ]]))"
      ]
     },
     "execution_count": 10,
     "metadata": {},
     "output_type": "execute_result"
    }
   ],
   "source": [
    "Qc = np.diag([5.,25.,5.,24.,24.,24.,4.,8.,4.,8.,8.,8.]) \n",
    "Rc = np.diag([70.,70.,70.,2.])\n",
    "K = lqr(A,B,Qc,Rc)\n",
    "\n",
    "Qo = 100*np.eye(B.shape[1])\n",
    "Ro = np.eye(A.shape[0])\n",
    "\n",
    "L = lqr(A.T, C.T, linalg.inv(Ro), linalg.inv(Qo)).T\n",
    "K, L"
   ]
  },
  {
   "cell_type": "code",
   "execution_count": 14,
   "id": "ed7acad7",
   "metadata": {},
   "outputs": [
    {
     "data": {
      "text/plain": [
       "True"
      ]
     },
     "execution_count": 14,
     "metadata": {},
     "output_type": "execute_result"
    }
   ],
   "source": [
    "def is_controllable(A,B):\n",
    "    '''returns controllability matrix W and True/False for controllability of system'''\n",
    "    n = A.shape[0]\n",
    "    W = B\n",
    "    for i in range(1, n):\n",
    "        col = np.linalg.matrix_power(A, i) @ B\n",
    "        W = np.block([W, col])\n",
    "    return W, np.linalg.matrix_rank(W)==W.shape[0]\n",
    "\n",
    "W = is_controllable(A,B)[0]\n",
    "is_controllable(A,B)[1] # will return True if controllable"
   ]
  },
  {
   "cell_type": "code",
   "execution_count": 15,
   "id": "fd89f740",
   "metadata": {},
   "outputs": [
    {
     "data": {
      "text/plain": [
       "True"
      ]
     },
     "execution_count": 15,
     "metadata": {},
     "output_type": "execute_result"
    }
   ],
   "source": [
    "def is_observable(A,C):\n",
    "    n = A.shape[0]\n",
    "    O = C\n",
    "    for i in range(1,n):\n",
    "        row = C@la.matrix_power(A,i)\n",
    "        O = np.block([[O],[row]])\n",
    "    return la.matrix_rank(O)==n\n",
    "is_observable(A,C) # will return True if observable"
   ]
  },
  {
   "cell_type": "code",
   "execution_count": 16,
   "id": "c185af49",
   "metadata": {},
   "outputs": [
    {
     "data": {
      "text/plain": [
       "True"
      ]
     },
     "execution_count": 16,
     "metadata": {},
     "output_type": "execute_result"
    }
   ],
   "source": [
    "def is_stable(A,L,C):\n",
    "    F = A-L@C\n",
    "    eigs = la.eigvals(F)\n",
    "    return (eigs.real<0).all()\n",
    "\n",
    "is_stable(A,L,C) # will print True if stable"
   ]
  },
  {
   "cell_type": "markdown",
   "id": "strategic-moore",
   "metadata": {},
   "source": [
    "## Example of how to add a drone and run a simulation"
   ]
  },
  {
   "cell_type": "markdown",
   "id": "electronic-repository",
   "metadata": {},
   "source": [
    "Define a controller for the drone."
   ]
  },
  {
   "cell_type": "code",
   "execution_count": 46,
   "id": "c69dcf6b",
   "metadata": {},
   "outputs": [],
   "source": [
    "class Controller:\n",
    "    def __init__(self):\n",
    "        self.A = A.astype(float)\n",
    "        self.B = B.astype(float)\n",
    "        self.C = C.astype(float)\n",
    "        self.K = K.astype(float)\n",
    "        self.L = L.astype(float)  \n",
    "        self.p_xe = p_xe\n",
    "        self.p_ye = p_ye\n",
    "        self.p_ze = p_ze\n",
    "        \n",
    "        self.tau_xe = tau_xe\n",
    "        self.tau_ye = tau_ye\n",
    "        self.tau_ze = tau_ze\n",
    "        self.f_ze = f_ze\n",
    "        self.xe = xe # state equilibrium (constant)\n",
    "        self.dt = 0.01\n",
    "\n",
    "    def get_color(self):\n",
    "        return [0., 1., 0.]\n",
    "\n",
    "    def reset(\n",
    "            self,\n",
    "            p_x_meas, p_y_meas, p_z_meas, # <-- measured position of drone (meters)\n",
    "            yaw_meas,                     # <-- measured yaw angle of drone (radians)\n",
    "        ):\n",
    "        \n",
    "        self.xhat = np.array([[p_x_meas], [p_y_meas], [p_z_meas], [yaw_meas], [0],[ 0], [0], [0], [0], [0], [0], [0]])\n",
    "\n",
    "    def run(\n",
    "            self,\n",
    "            p_x_meas, p_y_meas, p_z_meas, # <-- measured position of drone (meters)\n",
    "            yaw_meas,                     # <-- measured yaw angle of drone (radians)\n",
    "            p_x_ring, p_y_ring, p_z_ring, # <-- center position of next ring (meters)\n",
    "            is_last_ring,                 # <-- True if next ring is the last ring, False otherwise\n",
    "            pos_others,                   # <-- 2d array of size n x 3, where n is the number\n",
    "                                          #     of all *other* drones - the ith row in this array\n",
    "                                          #     has the coordinates [x_i, y_i, z_i], in meters, of\n",
    "                                          #     the ith other drone\n",
    "        ):\n",
    "        \n",
    "        \n",
    "        x_meas = np.block([p_x_meas, p_y_meas, p_z_meas, yaw_meas, np.zeros(8)]).reshape((12,1)) # measured state (partial)\n",
    "        xhat_des = np.block([p_x_ring, p_y_ring, p_z_ring, np.zeros(9)]).reshape(12,1) # desired state estimate\n",
    "        \n",
    "        # Position Tracking\n",
    "        r = 2.10\n",
    "        p_hat = self.xhat[0:3]\n",
    "        p_ring = np.array([p_x_ring, p_y_ring, p_z_ring]).reshape(3, 1)\n",
    "        p_err = p_ring - p_hat\n",
    "        \n",
    "        if(la.norm(p_err)>0.001):\n",
    "            p_norm = p_err/(linalg.norm(p_err)) \n",
    "            p_des = p_hat + r*p_norm\n",
    "\n",
    "        else:\n",
    "            p_des = p_ring\n",
    "        xhat_des[0] = p_des[0]\n",
    "        xhat_des[1] = p_des[1]\n",
    "        xhat_des[2] = p_des[2]\n",
    "        \n",
    "        # Velocity Tracking\n",
    "        \n",
    "        \n",
    "        \n",
    "        # Sensor Model\n",
    "        u_des = np.array([self.tau_xe, self.tau_ye, self.tau_ze, -self.f_ze])\n",
    "        u = u_des - self.K@(self.xhat - xhat_des)\n",
    "\n",
    "        u = -self.K@(self.xhat-xhat_des)\n",
    "        y = (self.C @ (x_meas - self.xe)).reshape(4,1)\n",
    "        \n",
    "        tau_x = u[0,0] + self.tau_xe\n",
    "        tau_y = u[1,0] + self.tau_ye\n",
    "        tau_z = u[2,0] + self.tau_ze\n",
    "\n",
    "        if y[2,0] <= 0.5:\n",
    "            u[3,0] = 2.0\n",
    "        if is_last_ring: \n",
    "            if abs(p_ring[0] - p_x_meas) < 0.79 and abs(p_ring[1] - p_y_meas) < 0.79:\n",
    "                u[3,0] = -100.\n",
    "        f_z = u[3,0] + self.f_ze\n",
    "        u[3,0] = f_z - self.f_ze\n",
    "        self.xhat += self.dt*((self.A @ self.xhat) + (self.B @ u) - (self.L @ ((self.C @ self.xhat) - y)))\n",
    "\n",
    "        return tau_x, tau_y, tau_z, f_z"
   ]
  },
  {
   "cell_type": "code",
   "execution_count": 47,
   "id": "4478f3f3",
   "metadata": {},
   "outputs": [],
   "source": [
    "simulator.clear_drones()"
   ]
  },
  {
   "cell_type": "markdown",
   "id": "9f1dd2ee",
   "metadata": {},
   "source": [
    "Add the drone to the simulator. There are three arguments:\n",
    "\n",
    "* `Controller` is the class definition\n",
    "* `'my_netid'` is the name of the drone\n",
    "* `'my_image.png'` is the name of an image to use as a label (can be `None`, can be a file path)\n",
    "\n",
    "You can call this function more than once, so long as you call it with a different drone name each time. An exception will be raised if you try to add two drones of the same name to the simulator."
   ]
  },
  {
   "cell_type": "code",
   "execution_count": 48,
   "id": "exceptional-aspect",
   "metadata": {},
   "outputs": [],
   "source": [
    "simulator.add_drone(Controller, '1', 'droneface.jpg')"
   ]
  },
  {
   "cell_type": "code",
   "execution_count": 49,
   "id": "0ae4d3de",
   "metadata": {},
   "outputs": [],
   "source": [
    "simulator.camera_droneview('1')"
   ]
  },
  {
   "cell_type": "markdown",
   "id": "basic-variance",
   "metadata": {},
   "source": [
    "Reset the drone (i.e., place it at a random location in the start ring)."
   ]
  },
  {
   "cell_type": "code",
   "execution_count": 50,
   "id": "scientific-friendly",
   "metadata": {},
   "outputs": [],
   "source": [
    "simulator.reset()"
   ]
  },
  {
   "cell_type": "markdown",
   "id": "dress-product",
   "metadata": {},
   "source": [
    "Run simulation until `max_time` is reached or until the drone reaches the finish ring."
   ]
  },
  {
   "cell_type": "code",
   "execution_count": 51,
   "id": "streaming-narrative",
   "metadata": {},
   "outputs": [
    {
     "name": "stdout",
     "output_type": "stream",
     "text": [
      "FINISHED: drone \"1\" at time 41.75\n"
     ]
    }
   ],
   "source": [
    "simulator.run(max_time=None)"
   ]
  },
  {
   "cell_type": "code",
   "execution_count": 52,
   "id": "a9dd0718",
   "metadata": {},
   "outputs": [
    {
     "name": "stdout",
     "output_type": "stream",
     "text": [
      "-------Starting Simulations!--------\n",
      "FINISHED: drone \"1\" at time 30.30\n",
      "0 / 30\n",
      "FINISHED: drone \"1\" at time 30.85\n",
      "FINISHED: drone \"1\" at time 29.54\n",
      "FINISHED: drone \"1\" at time 23.24\n",
      "FINISHED: drone \"1\" at time 27.02\n",
      "FINISHED: drone \"1\" at time 25.91\n",
      "FINISHED: drone \"1\" at time 24.16\n",
      "FINISHED: drone \"1\" at time 26.00\n",
      "FINISHED: drone \"1\" at time 30.98\n",
      "FINISHED: drone \"1\" at time 28.69\n",
      "10 / 30\n",
      "FINISHED: drone \"1\" at time 26.30\n",
      "FINISHED: drone \"1\" at time 22.76\n",
      "FINISHED: drone \"1\" at time 25.98\n",
      "FINISHED: drone \"1\" at time 25.23\n",
      "FINISHED: drone \"1\" at time 29.61\n",
      "FINISHED: drone \"1\" at time 28.05\n",
      "FINISHED: drone \"1\" at time 26.37\n",
      "FINISHED: drone \"1\" at time 23.34\n",
      "FINISHED: drone \"1\" at time 26.06\n",
      "20 / 30\n",
      "FINISHED: drone \"1\" at time 26.45\n",
      "FINISHED: drone \"1\" at time 25.72\n",
      "FINISHED: drone \"1\" at time 25.77\n",
      "FINISHED: drone \"1\" at time 29.33\n",
      "FINISHED: drone \"1\" at time 25.68\n",
      "FINISHED: drone \"1\" at time 26.38\n",
      "FINISHED: drone \"1\" at time 23.52\n",
      "FINISHED: drone \"1\" at time 24.16\n",
      "FINISHED: drone \"1\" at time 30.61\n",
      "30  / 30\n",
      "---------Simulations Complete!-------\n"
     ]
    }
   ],
   "source": [
    "\n",
    "num_iters = 30\n",
    "finished = 0\n",
    "failed = 0\n",
    "finish_times = np.zeros(num_iters) - np.ones(num_iters)\n",
    "print(\"-------Starting Simulations!--------\")\n",
    "for i in range(num_iters):\n",
    "    simulator.clear_drones()\n",
    "    simulator.add_drone(Controller, '1', 'droneface.jpg')\n",
    "    simulator.camera_droneview('1')\n",
    "    simulator.move_rings()\n",
    "    simulator.reset()\n",
    "    x_des_array = []\n",
    "    simulator.run(max_time=40.0)\n",
    "    drone_name = '1'\n",
    "    drone = simulator.get_drone_by_name(drone_name)\n",
    "    if drone['finish_time'] is None:\n",
    "        failed += 1\n",
    "    else:\n",
    "        finished += 1\n",
    "        finish_times[i] = drone['finish_time']\n",
    "    if i%10 == 0:\n",
    "        print(f\"{i} /\", num_iters)\n",
    "print(num_iters, f\" /\", num_iters)\n",
    "print(\"---------Simulations Complete!-------\")"
   ]
  },
  {
   "cell_type": "code",
   "execution_count": 53,
   "id": "7e9f1ebe",
   "metadata": {},
   "outputs": [],
   "source": [
    "actual_finish_times = []\n",
    "for i in range(len(finish_times)):\n",
    "    if finish_times[i] >= 0:\n",
    "         actual_finish_times.append(finish_times[i])\n",
    "actual_finish_times = np.array(actual_finish_times)"
   ]
  },
  {
   "cell_type": "code",
   "execution_count": 54,
   "id": "78844be1",
   "metadata": {},
   "outputs": [
    {
     "name": "stdout",
     "output_type": "stream",
     "text": [
      "------------------Report----------------\n",
      "Total number of runs:           30\n",
      "No. of successful runs:         28\n",
      "No. of failed runs:             2\n",
      "Success rate:                   93.33333333333333\n",
      "Mean finish time:               26.714642857142856\n",
      "Median finish time:             26.18\n",
      "Standard Deviation:             2.4084783016651485\n",
      "\n",
      "\n",
      "-----Histogram of all finish times------\n",
      "\n"
     ]
    },
    {
     "data": {
      "image/png": "[encoded data removed]",
      "text/plain": [
       "<Figure size 432x288 with 1 Axes>"
      ]
     },
     "metadata": {
      "needs_background": "light"
     },
     "output_type": "display_data"
    }
   ],
   "source": [
    "print(\"------------------Report----------------\")\n",
    "print(f\"Total number of runs:          \", num_iters)\n",
    "print(f\"No. of successful runs:        \", finished)\n",
    "print(f\"No. of failed runs:            \", failed)\n",
    "print(f\"Success rate:                  \", finished/num_iters * 100)\n",
    "print(f\"Mean finish time:              \", np.mean(actual_finish_times))\n",
    "print(f\"Median finish time:            \",np.median(actual_finish_times))\n",
    "print(f\"Standard Deviation:            \", np.std(actual_finish_times))\n",
    "print(f\"\\n\\n-----Histogram of all finish times------\\n\")\n",
    "plt.hist(actual_finish_times, bins= 40)\n",
    "plt.xlabel(\"Finishing time (s)\")\n",
    "plt.title(\"Histogram of finishing times\")\n",
    "plt.show()"
   ]
  },
  {
   "cell_type": "code",
   "execution_count": 23,
   "id": "ad4bda5f",
   "metadata": {},
   "outputs": [
    {
     "data": {
      "text/plain": [
       "(-0.9799999999999999,\n",
       " 0.9799999999999999,\n",
       " -4.96707538591831e-18,\n",
       " 11.479999999999999)"
      ]
     },
     "execution_count": 23,
     "metadata": {},
     "output_type": "execute_result"
    }
   ],
   "source": [
    "(\n",
    "  tau_x,\n",
    "  tau_y,\n",
    "  tau_z,\n",
    "  f_z,\n",
    ") = simulator.enforce_motor_limits(\n",
    "-1.4792584209181183, 2.5685045857157376, 7.607654797605395e-14, 9.537152024733434\n",
    ")\n",
    "tau_x,tau_y,tau_z, f_z"
   ]
  },
  {
   "cell_type": "markdown",
   "id": "registered-faith",
   "metadata": {},
   "source": [
    "## Example of how to get and plot results\n",
    "\n",
    "Assume that we already did two things:\n",
    "\n",
    "* Added a drone with the name `my_netid` to the simulator\n",
    "* Ran the simulation"
   ]
  },
  {
   "cell_type": "markdown",
   "id": "ec57964f",
   "metadata": {},
   "source": [
    "Get result."
   ]
  },
  {
   "cell_type": "code",
   "execution_count": 68,
   "id": "e41d5a61",
   "metadata": {},
   "outputs": [],
   "source": [
    "(\n",
    "    did_it_fail,\n",
    "    did_it_finish,\n",
    "    what_time_did_it_finish,\n",
    ") = simulator.get_result('1')"
   ]
  },
  {
   "cell_type": "markdown",
   "id": "8967e6bd",
   "metadata": {},
   "source": [
    "Show result."
   ]
  },
  {
   "cell_type": "code",
   "execution_count": 69,
   "id": "7d2272c6",
   "metadata": {},
   "outputs": [
    {
     "name": "stdout",
     "output_type": "stream",
     "text": [
      "The drone did not finish (yet).\n"
     ]
    }
   ],
   "source": [
    "if did_it_fail:\n",
    "    print('The drone failed before finishing.')\n",
    "elif did_it_finish:\n",
    "    print(f'The drone finished at time {what_time_did_it_finish}')\n",
    "else:\n",
    "    print('The drone did not finish (yet).')"
   ]
  },
  {
   "cell_type": "markdown",
   "id": "polished-advisory",
   "metadata": {},
   "source": [
    "Get data."
   ]
  },
  {
   "cell_type": "code",
   "execution_count": 244,
   "id": "liked-handle",
   "metadata": {},
   "outputs": [],
   "source": [
    "data = simulator.get_data('1')"
   ]
  },
  {
   "cell_type": "code",
   "execution_count": 247,
   "id": "c593b50f",
   "metadata": {},
   "outputs": [
    {
     "data": {
      "text/plain": [
       "{'t': array([0.000e+00, 1.000e-02, 2.000e-02, ..., 2.541e+01, 2.542e+01,\n",
       "        2.543e+01]),\n",
       " 'p_x': array([-0.80871062, -0.8086916 , -0.80865876, ..., 27.96951201,\n",
       "        27.98139031, 27.99335219]),\n",
       " 'p_y': array([ 0.00799449,  0.0080333 ,  0.00805876, ..., -1.09564895,\n",
       "        -1.08482943, -1.07393204]),\n",
       " 'p_z': array([0.3       , 0.30025724, 0.30073806, ..., 0.50374404, 0.50248473,\n",
       "        0.50122499]),\n",
       " 'yaw': array([-0.00355065, -0.00338597, -0.00311475, ..., -0.01716462,\n",
       "        -0.01900607, -0.02091688]),\n",
       " 'pitch': array([0.00639405, 0.02016036, 0.03472809, ..., 0.09350824, 0.10052448,\n",
       "        0.10772396]),\n",
       " 'roll': array([ 0.00893391,  0.01456451,  0.02068365, ..., -0.08834308,\n",
       "        -0.09847632, -0.10850127]),\n",
       " 'v_x': array([0.00133182, 0.00148064, 0.00198178, ..., 1.17088458, 1.17670026,\n",
       "        1.18303052]),\n",
       " 'v_y': array([0.00466646, 0.00398363, 0.00316585, ..., 1.09479216, 1.10249465,\n",
       "        1.1109352 ]),\n",
       " 'v_z': array([0.0106891 , 0.03470603, 0.05614568, ..., 0.08022223, 0.1010044 ,\n",
       "        0.12222049]),\n",
       " 'w_x': array([-3.02699389e-04,  9.00582135e-01,  4.37608377e-01, ...,\n",
       "        -9.67739371e-01, -1.01213058e+00, -9.64949539e-01]),\n",
       " 'w_y': array([1.82780100e-03, 2.20137044e+00, 1.01070884e+00, ...,\n",
       "        7.11547002e-01, 7.18112869e-01, 7.46296889e-01]),\n",
       " 'w_z': array([-0.00064961,  0.00086047,  0.00188379, ..., -0.11846586,\n",
       "        -0.11623134, -0.113591  ]),\n",
       " 'p_x_meas': array([-0.80568714, -0.82012406, -0.79642497, ..., 27.96205619,\n",
       "        27.99254899, 27.99101947]),\n",
       " 'p_y_meas': array([ 0.01054986,  0.02382014,  0.00952269, ..., -1.08561217,\n",
       "        -1.07727091, -1.07695198]),\n",
       " 'p_z_meas': array([0.30856792, 0.29889114, 0.26891257, ..., 0.48510927, 0.50343188,\n",
       "        0.52163655]),\n",
       " 'yaw_meas': array([-0.00392572, -0.00417479, -0.0015635 , ..., -0.01553097,\n",
       "        -0.01900959, -0.02088771]),\n",
       " 'p_x_ring': array([ 5.,  5.,  5., ..., 30., 30., 30.]),\n",
       " 'p_y_ring': array([-1.02984871, -1.02984871, -1.02984871, ...,  0.        ,\n",
       "         0.        ,  0.        ]),\n",
       " 'p_z_ring': array([2.39292198, 2.39292198, 2.39292198, ..., 0.25      , 0.25      ,\n",
       "        0.25      ]),\n",
       " 'is_last_ring': array([False, False, False, ...,  True,  True,  True]),\n",
       " 'tau_x': array([ 0.20728015, -0.10627601,  0.05126808, ..., -0.01054902,\n",
       "         0.01051317, -0.00336454]),\n",
       " 'tau_y': array([ 0.50607541, -0.27337721,  0.10874994, ...,  0.00147237,\n",
       "         0.00643602, -0.00777358]),\n",
       " 'tau_z': array([0.00060206, 0.00033343, 0.00012788, ..., 0.00089008, 0.00092699,\n",
       "        0.00118224]),\n",
       " 'f_z': array([6.10586323, 5.97563664, 5.93019013, ..., 4.93780962, 4.94139411,\n",
       "        4.9369977 ]),\n",
       " 'tau_x_cmd': array([ 0.20728015, -0.10627601,  0.05126808, ..., -0.01054902,\n",
       "         0.01051317, -0.00336454]),\n",
       " 'tau_y_cmd': array([ 0.52012478, -0.27337721,  0.10874994, ...,  0.00147237,\n",
       "         0.00643602, -0.00777358]),\n",
       " 'tau_z_cmd': array([0.00174895, 0.00033343, 0.00012788, ..., 0.00089008, 0.00092699,\n",
       "        0.00118224]),\n",
       " 'f_z_cmd': array([6.02558107, 5.97563664, 5.93019013, ..., 4.93780962, 4.94139411,\n",
       "        4.9369977 ]),\n",
       " 'run_time': array([0.        , 0.00099325, 0.        , ..., 0.        , 0.        ,\n",
       "        0.        ])}"
      ]
     },
     "execution_count": 247,
     "metadata": {},
     "output_type": "execute_result"
    }
   ],
   "source": [
    "data"
   ]
  },
  {
   "cell_type": "markdown",
   "id": "cognitive-nomination",
   "metadata": {},
   "source": [
    "Plot results."
   ]
  },
  {
   "cell_type": "code",
   "execution_count": 128,
   "id": "informed-watson",
   "metadata": {},
   "outputs": [
    {
     "data": {
      "image/png": "[encoded data removed]",
      "text/plain": [
       "<Figure size 864x864 with 3 Axes>"
      ]
     },
     "metadata": {
      "needs_background": "light"
     },
     "output_type": "display_data"
    }
   ],
   "source": [
    "# Create a figure with subplots that all share the same x-axis\n",
    "fig, (ax_pos, ax_ori, ax_act) = plt.subplots(3, 1, figsize=(12, 12), sharex=True)\n",
    "\n",
    "# Position\n",
    "ax_pos.plot(data['t'], data['p_x'], label='x (m)', linewidth=3, color='C0')\n",
    "ax_pos.plot(data['t'], data['p_y'], label='y (m)', linewidth=3, color='C1')\n",
    "ax_pos.plot(data['t'], data['p_z'], label='z (m)', linewidth=3, color='C2')\n",
    "ax_pos.plot(data['t'], data['p_x_meas'], '.', label='measured x (m)', markersize=3, color='C0')\n",
    "ax_pos.plot(data['t'], data['p_y_meas'], '.', label='measured y (m)', markersize=3, color='C1')\n",
    "ax_pos.plot(data['t'], data['p_z_meas'], '.', label='measured z (m)', markersize=3, color='C2')\n",
    "ax_pos.grid()\n",
    "ax_pos.legend(fontsize=16, bbox_to_anchor=(1., 1.))\n",
    "ax_pos.tick_params(labelsize=14)\n",
    "\n",
    "# Orientation\n",
    "ax_ori.plot(data['t'], data['yaw'], label='yaw (rad)', linewidth=3)\n",
    "ax_ori.plot(data['t'], data['pitch'], label='pitch (rad)', linewidth=3)\n",
    "ax_ori.plot(data['t'], data['roll'], label='roll (rad)', linewidth=3)\n",
    "ax_ori.plot(data['t'], data['yaw_meas'], '.', label='measured yaw (rad)', markersize=3, color='C0')\n",
    "ax_ori.grid()\n",
    "ax_ori.legend(fontsize=16, bbox_to_anchor=(1., 1.))\n",
    "ax_ori.tick_params(labelsize=14)\n",
    "\n",
    "# Actuator commands\n",
    "ax_act.plot(data['t'], data['tau_x'], label='tau_x (N-m)', linewidth=4)\n",
    "ax_act.plot(data['t'], data['tau_x_cmd'], '--', label='commanded tau_x (N-m)', linewidth=4)\n",
    "ax_act.plot(data['t'], data['tau_y'], label='tau_y (N-m)', linewidth=4)\n",
    "ax_act.plot(data['t'], data['tau_y_cmd'], '--', label='commanded tau_y (N-m)', linewidth=4)\n",
    "ax_act.plot(data['t'], data['tau_z'], label='tau_z (N-m)', linewidth=4)\n",
    "ax_act.plot(data['t'], data['tau_z_cmd'], '--', label='commanded tau_z (N-m)', linewidth=4)\n",
    "ax_act.plot(data['t'], data['f_z'] - (0.5 * 9.81), label='f_z - m g (N)', linewidth=4) # <-- FIXME\n",
    "ax_act.plot(data['t'], data['f_z_cmd'] - (0.5 * 9.81), '--', label='commanded f_z - m g (N)', linewidth=4) # <-- FIXME\n",
    "ax_act.grid()\n",
    "ax_act.legend(fontsize=16, bbox_to_anchor=(1., 1.))\n",
    "ax_act.tick_params(labelsize=14)\n",
    "# ax_act.set_ylim(-10, 10) # <-- FIXME\n",
    "\n",
    "# Set shared x-axis properties\n",
    "ax_act.set_xlabel('time (s)', fontsize=20)\n",
    "ax_act.set_xlim([data['t'][0], data['t'][-1]])\n",
    "\n",
    "# Make the arrangement of subplots look nice\n",
    "fig.tight_layout()\n",
    "plt.show()"
   ]
  },
  {
   "cell_type": "markdown",
   "id": "03d089f6",
   "metadata": {},
   "source": [
    "Save the figure (without transparent background)."
   ]
  },
  {
   "cell_type": "code",
   "execution_count": 129,
   "id": "8a97dcec",
   "metadata": {},
   "outputs": [],
   "source": [
    "fig.savefig('my_figure.png', facecolor='white', transparent=False)"
   ]
  },
  {
   "cell_type": "markdown",
   "id": "0439cf3a",
   "metadata": {},
   "source": [
    "Plot histogram of controller run times."
   ]
  },
  {
   "cell_type": "code",
   "execution_count": 130,
   "id": "4921eddc",
   "metadata": {},
   "outputs": [
    {
     "data": {
      "image/png": "[encoded data removed]",
      "text/plain": [
       "<Figure size 432x288 with 1 Axes>"
      ]
     },
     "metadata": {
      "needs_background": "light"
     },
     "output_type": "display_data"
    }
   ],
   "source": [
    "plt.hist(data['run_time'])\n",
    "plt.ticklabel_format(style='scientific', scilimits=(0, 0), axis='x')\n",
    "plt.tick_params(labelsize=14)\n",
    "plt.xlabel('run time (s)', fontsize=14)\n",
    "plt.ylabel('count', fontsize=14)\n",
    "plt.tight_layout()\n",
    "plt.show()"
   ]
  },
  {
   "cell_type": "markdown",
   "id": "9155e43b",
   "metadata": {},
   "source": [
    "Note that it is required to also plot state estimates (in comparison to states) in order to check that your observer is working - no example is provided here, since no state estimates are being generated by the template `Controller` class."
   ]
  },
  {
   "cell_type": "markdown",
   "id": "secondary-condition",
   "metadata": {},
   "source": [
    "## Example of how to load drones from the \"students\" directory"
   ]
  },
  {
   "cell_type": "markdown",
   "id": "proprietary-camel",
   "metadata": {},
   "source": [
    "Load drones from `students` directory."
   ]
  },
  {
   "cell_type": "code",
   "execution_count": 31,
   "id": "adolescent-anime",
   "metadata": {},
   "outputs": [
    {
     "name": "stdout",
     "output_type": "stream",
     "text": [
      "Try to import controllers from the directory \"./students\":\n",
      " ./students/template.py\n",
      "\n",
      "\n",
      "The following controllers failed to import and were ignored:\n",
      "\n"
     ]
    }
   ],
   "source": [
    "failures = simulator.load_drones()"
   ]
  },
  {
   "cell_type": "markdown",
   "id": "progressive-catch",
   "metadata": {},
   "source": [
    "Reset drones (places drones at random positions within the start ring)."
   ]
  },
  {
   "cell_type": "code",
   "execution_count": null,
   "id": "noted-filter",
   "metadata": {},
   "outputs": [],
   "source": [
    "simulator.reset()"
   ]
  },
  {
   "cell_type": "markdown",
   "id": "broke-water",
   "metadata": {},
   "source": [
    "Run simulation for `max_time` seconds or until all drones finish."
   ]
  },
  {
   "cell_type": "code",
   "execution_count": null,
   "id": "russian-thunder",
   "metadata": {},
   "outputs": [],
   "source": [
    "simulator.run(max_time=5.0)"
   ]
  },
  {
   "cell_type": "markdown",
   "id": "small-nation",
   "metadata": {},
   "source": [
    "## Example of how to show results, change views, keep running"
   ]
  },
  {
   "cell_type": "markdown",
   "id": "engaged-award",
   "metadata": {},
   "source": [
    "Show results (so far)."
   ]
  },
  {
   "cell_type": "code",
   "execution_count": 131,
   "id": "exclusive-orlando",
   "metadata": {},
   "outputs": [
    {
     "name": "stdout",
     "output_type": "stream",
     "text": [
      "FINISHED\n",
      " 3                    :  23.47\n",
      "\n",
      "STILL RUNNING\n",
      "\n",
      "FAILED\n"
     ]
    }
   ],
   "source": [
    "simulator.show_results()"
   ]
  },
  {
   "cell_type": "markdown",
   "id": "superior-sydney",
   "metadata": {},
   "source": [
    "View from behind a particular drone (assuming one exists that is named `template`)."
   ]
  },
  {
   "cell_type": "code",
   "execution_count": null,
   "id": "cutting-ecuador",
   "metadata": {},
   "outputs": [],
   "source": [
    "simulator.camera_droneview('template')"
   ]
  },
  {
   "cell_type": "markdown",
   "id": "american-corpus",
   "metadata": {},
   "source": [
    "Continue running simulation from same point for `max_time` seconds or until all drones finish."
   ]
  },
  {
   "cell_type": "code",
   "execution_count": 132,
   "id": "known-retail",
   "metadata": {},
   "outputs": [],
   "source": [
    "simulator.run(max_time=5.0)"
   ]
  },
  {
   "cell_type": "markdown",
   "id": "herbal-twenty",
   "metadata": {},
   "source": [
    "View from finish ring instead of from start ring."
   ]
  },
  {
   "cell_type": "code",
   "execution_count": null,
   "id": "trained-martin",
   "metadata": {},
   "outputs": [],
   "source": [
    "simulator.camera_finishview()"
   ]
  },
  {
   "cell_type": "markdown",
   "id": "joined-nature",
   "metadata": {},
   "source": [
    "Continue running simulation from same point for `max_time` seconds or until all drones finish."
   ]
  },
  {
   "cell_type": "code",
   "execution_count": null,
   "id": "supposed-amplifier",
   "metadata": {},
   "outputs": [],
   "source": [
    "simulator.run(max_time=5.0)"
   ]
  },
  {
   "cell_type": "markdown",
   "id": "engaged-indonesian",
   "metadata": {},
   "source": [
    "Show results (so far)."
   ]
  },
  {
   "cell_type": "code",
   "execution_count": 133,
   "id": "minor-superintendent",
   "metadata": {},
   "outputs": [
    {
     "name": "stdout",
     "output_type": "stream",
     "text": [
      "FINISHED\n",
      " 3                    :  23.47\n",
      "\n",
      "STILL RUNNING\n",
      "\n",
      "FAILED\n"
     ]
    }
   ],
   "source": [
    "simulator.show_results()"
   ]
  },
  {
   "cell_type": "markdown",
   "id": "earned-somewhere",
   "metadata": {},
   "source": [
    "## Example of how to clear and reload drones"
   ]
  },
  {
   "cell_type": "markdown",
   "id": "civilian-interface",
   "metadata": {},
   "source": [
    "Clear all drones."
   ]
  },
  {
   "cell_type": "code",
   "execution_count": null,
   "id": "economic-miller",
   "metadata": {},
   "outputs": [],
   "source": [
    "simulator.clear_drones()"
   ]
  },
  {
   "cell_type": "markdown",
   "id": "smoking-animation",
   "metadata": {},
   "source": [
    "Load drones again from `students` directory."
   ]
  },
  {
   "cell_type": "code",
   "execution_count": null,
   "id": "rental-member",
   "metadata": {},
   "outputs": [],
   "source": [
    "simulator.load_drones()"
   ]
  },
  {
   "cell_type": "markdown",
   "id": "democratic-advocacy",
   "metadata": {},
   "source": [
    "Reset drones (places drones at random positions within the start ring)."
   ]
  },
  {
   "cell_type": "code",
   "execution_count": null,
   "id": "every-times",
   "metadata": {},
   "outputs": [],
   "source": [
    "simulator.reset()"
   ]
  },
  {
   "cell_type": "markdown",
   "id": "special-camel",
   "metadata": {},
   "source": [
    "Run simulation until `max_time` is reached or until all drones finish."
   ]
  },
  {
   "cell_type": "code",
   "execution_count": null,
   "id": "present-analyst",
   "metadata": {},
   "outputs": [],
   "source": [
    "simulator.run(max_time=5.0)"
   ]
  },
  {
   "cell_type": "markdown",
   "id": "aquatic-saint",
   "metadata": {},
   "source": [
    "## Example of how to rearrange the rings"
   ]
  },
  {
   "cell_type": "markdown",
   "id": "natural-drunk",
   "metadata": {},
   "source": [
    "Rearrange the rings."
   ]
  },
  {
   "cell_type": "code",
   "execution_count": null,
   "id": "premium-mexico",
   "metadata": {},
   "outputs": [],
   "source": [
    "simulator.move_rings()"
   ]
  },
  {
   "cell_type": "markdown",
   "id": "allied-genealogy",
   "metadata": {},
   "source": [
    "Reset drones (places drones at random positions within the start ring)."
   ]
  },
  {
   "cell_type": "code",
   "execution_count": null,
   "id": "reasonable-writer",
   "metadata": {},
   "outputs": [],
   "source": [
    "simulator.reset()"
   ]
  },
  {
   "cell_type": "markdown",
   "id": "strange-provision",
   "metadata": {},
   "source": [
    "Run simulation until `max_time` is reached or until all drones finish."
   ]
  },
  {
   "cell_type": "code",
   "execution_count": null,
   "id": "narrative-worse",
   "metadata": {},
   "outputs": [],
   "source": [
    "simulator.run(max_time=5.0)"
   ]
  },
  {
   "cell_type": "markdown",
   "id": "realistic-virgin",
   "metadata": {},
   "source": [
    "## Example of how to take a snapshot"
   ]
  },
  {
   "cell_type": "markdown",
   "id": "rough-rally",
   "metadata": {},
   "source": [
    "View from behind a particular drone."
   ]
  },
  {
   "cell_type": "code",
   "execution_count": null,
   "id": "described-yukon",
   "metadata": {},
   "outputs": [],
   "source": [
    "simulator.camera_droneview('template')"
   ]
  },
  {
   "cell_type": "markdown",
   "id": "instant-scott",
   "metadata": {},
   "source": [
    "Display a snapshot."
   ]
  },
  {
   "cell_type": "code",
   "execution_count": null,
   "id": "thrown-harvard",
   "metadata": {},
   "outputs": [],
   "source": [
    "# Get snapshot as 480 x 480 x 4 numpy array of RGBA values\n",
    "rgba = simulator.snapshot()\n",
    "\n",
    "# Display snapshot\n",
    "plt.figure(figsize=(9, 9))\n",
    "plt.imshow(rgba)"
   ]
  },
  {
   "cell_type": "markdown",
   "id": "frequent-housing",
   "metadata": {},
   "source": [
    "Save the snapshot."
   ]
  },
  {
   "cell_type": "code",
   "execution_count": null,
   "id": "serial-tampa",
   "metadata": {},
   "outputs": [],
   "source": [
    "plt.imsave('my_snapshot.png', rgba)"
   ]
  },
  {
   "cell_type": "markdown",
   "id": "preliminary-washington",
   "metadata": {},
   "source": [
    "## Example of how to record a movie"
   ]
  },
  {
   "cell_type": "markdown",
   "id": "missing-administrator",
   "metadata": {},
   "source": [
    "Reset drones (places drones at random positions within the start ring)."
   ]
  },
  {
   "cell_type": "code",
   "execution_count": null,
   "id": "economic-tribe",
   "metadata": {},
   "outputs": [],
   "source": [
    "simulator.reset()"
   ]
  },
  {
   "cell_type": "markdown",
   "id": "usual-retention",
   "metadata": {},
   "source": [
    "View from behind a particular drone."
   ]
  },
  {
   "cell_type": "code",
   "execution_count": 102,
   "id": "dental-eight",
   "metadata": {},
   "outputs": [
    {
     "ename": "Exception",
     "evalue": "drone \"template\" does not exist",
     "output_type": "error",
     "traceback": [
      "\u001b[1;31m---------------------------------------------------------------------------\u001b[0m",
      "\u001b[1;31mException\u001b[0m                                 Traceback (most recent call last)",
      "Input \u001b[1;32mIn [102]\u001b[0m, in \u001b[0;36m<module>\u001b[1;34m\u001b[0m\n\u001b[1;32m----> 1\u001b[0m \u001b[43msimulator\u001b[49m\u001b[38;5;241;43m.\u001b[39;49m\u001b[43mcamera_droneview\u001b[49m\u001b[43m(\u001b[49m\u001b[38;5;124;43m'\u001b[39;49m\u001b[38;5;124;43mtemplate\u001b[39;49m\u001b[38;5;124;43m'\u001b[39;49m\u001b[43m)\u001b[49m\n",
      "File \u001b[1;32m~\\Documents\\GitHub\\04_drone\\ae353_drone.py:434\u001b[0m, in \u001b[0;36mSimulator.camera_droneview\u001b[1;34m(self, drone_name, yaw)\u001b[0m\n\u001b[0;32m    432\u001b[0m \u001b[38;5;28;01melse\u001b[39;00m:\n\u001b[0;32m    433\u001b[0m     \u001b[38;5;28;01mif\u001b[39;00m \u001b[38;5;28mself\u001b[39m\u001b[38;5;241m.\u001b[39mget_drone_by_name(drone_name) \u001b[38;5;129;01mis\u001b[39;00m \u001b[38;5;28;01mNone\u001b[39;00m:\n\u001b[1;32m--> 434\u001b[0m         \u001b[38;5;28;01mraise\u001b[39;00m \u001b[38;5;167;01mException\u001b[39;00m(\u001b[38;5;124mf\u001b[39m\u001b[38;5;124m'\u001b[39m\u001b[38;5;124mdrone \u001b[39m\u001b[38;5;124m\"\u001b[39m\u001b[38;5;132;01m{\u001b[39;00mdrone_name\u001b[38;5;132;01m}\u001b[39;00m\u001b[38;5;124m\"\u001b[39m\u001b[38;5;124m does not exist\u001b[39m\u001b[38;5;124m'\u001b[39m)\n\u001b[0;32m    435\u001b[0m     \u001b[38;5;28mself\u001b[39m\u001b[38;5;241m.\u001b[39mcamera_drone_name \u001b[38;5;241m=\u001b[39m drone_name\n\u001b[0;32m    436\u001b[0m     \u001b[38;5;28mself\u001b[39m\u001b[38;5;241m.\u001b[39mcamera_drone_yaw \u001b[38;5;241m=\u001b[39m yaw\n",
      "\u001b[1;31mException\u001b[0m: drone \"template\" does not exist"
     ]
    }
   ],
   "source": [
    "simulator.camera_droneview('template')"
   ]
  },
  {
   "cell_type": "markdown",
   "id": "cutting-guide",
   "metadata": {},
   "source": [
    "Run simulation until `max_time` is reached or until all drones finish, saving movie to `my_video.mp4`."
   ]
  },
  {
   "cell_type": "code",
   "execution_count": 103,
   "id": "comprehensive-taxation",
   "metadata": {},
   "outputs": [],
   "source": [
    "simulator.run(max_time=None, video_filename='my_video.mp4')"
   ]
  },
  {
   "cell_type": "markdown",
   "id": "190e07f5",
   "metadata": {},
   "source": [
    "## Example of how to allow print statements and long run times"
   ]
  },
  {
   "cell_type": "markdown",
   "id": "c686ae49",
   "metadata": {},
   "source": [
    "By default, your controller will fail if either of the following conditions is met:\n",
    "\n",
    "* It prints something to `stdout`.\n",
    "* It exceeds the maximum runtime of `1` second for `init`, `1` second for `reset`, and `5e-3` seconds for `run`.\n",
    "\n",
    "You can relax these rules for the purpose of development if you want, as follows."
   ]
  },
  {
   "cell_type": "code",
   "execution_count": null,
   "id": "d0d3f09c",
   "metadata": {},
   "outputs": [],
   "source": [
    "simulator.set_rules(\n",
    "    error_on_print=False,    # <-- allow print statements in controller code\n",
    "    error_on_timeout=False,  # <-- allow long runtimes in controller code\n",
    ")"
   ]
  },
  {
   "cell_type": "code",
   "execution_count": null,
   "id": "75a7997b",
   "metadata": {},
   "outputs": [],
   "source": []
  }
 ],
 "metadata": {
  "kernelspec": {
   "display_name": "Python 3",
   "language": "python",
   "name": "python3"
  },
  "language_info": {
   "codemirror_mode": {
    "name": "ipython",
    "version": 3
   },
   "file_extension": ".py",
   "mimetype": "text/x-python",
   "name": "python",
   "nbconvert_exporter": "python",
   "pygments_lexer": "ipython3",
   "version": "3.10.2"
  }
 },
 "nbformat": 4,
 "nbformat_minor": 5
}
